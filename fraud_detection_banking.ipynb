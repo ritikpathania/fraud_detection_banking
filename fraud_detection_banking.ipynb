{
  "nbformat": 4,
  "nbformat_minor": 0,
  "metadata": {
    "colab": {
      "provenance": [],
      "gpuType": "V28",
      "authorship_tag": "ABX9TyOiLXmC0eD+rc3XkxN4bwk0",
      "include_colab_link": true
    },
    "kernelspec": {
      "name": "python3",
      "display_name": "Python 3"
    },
    "language_info": {
      "name": "python"
    },
    "accelerator": "TPU"
  },
  "cells": [
    {
      "cell_type": "markdown",
      "metadata": {
        "id": "view-in-github",
        "colab_type": "text"
      },
      "source": [
        "<a href=\"https://colab.research.google.com/github/ritikpathania/fraud_detection_banking/blob/main/fraud_detection_banking.ipynb\" target=\"_parent\"><img src=\"https://colab.research.google.com/assets/colab-badge.svg\" alt=\"Open In Colab\"/></a>"
      ]
    },
    {
      "cell_type": "code",
      "source": [
        "!pip install sdv xgboost scikit-learn pandas -q"
      ],
      "metadata": {
        "colab": {
          "base_uri": "https://localhost:8080/"
        },
        "id": "0rJfI1V_yxdK",
        "outputId": "619f1536-5c22-408f-d0f7-978b28e4bedc"
      },
      "execution_count": 1,
      "outputs": [
        {
          "output_type": "stream",
          "name": "stdout",
          "text": [
            "\u001b[2K   \u001b[90m━━━━━━━━━━━━━━━━━━━━━━━━━━━━━━━━━━━━━━━━\u001b[0m \u001b[32m185.9/185.9 kB\u001b[0m \u001b[31m5.0 MB/s\u001b[0m eta \u001b[36m0:00:00\u001b[0m\n",
            "\u001b[2K   \u001b[90m━━━━━━━━━━━━━━━━━━━━━━━━━━━━━━━━━━━━━━━━\u001b[0m \u001b[32m94.9/94.9 MB\u001b[0m \u001b[31m12.7 MB/s\u001b[0m eta \u001b[36m0:00:00\u001b[0m\n",
            "\u001b[2K   \u001b[90m━━━━━━━━━━━━━━━━━━━━━━━━━━━━━━━━━━━━━━━━\u001b[0m \u001b[32m140.1/140.1 kB\u001b[0m \u001b[31m10.2 MB/s\u001b[0m eta \u001b[36m0:00:00\u001b[0m\n",
            "\u001b[2K   \u001b[90m━━━━━━━━━━━━━━━━━━━━━━━━━━━━━━━━━━━━━━━━\u001b[0m \u001b[32m14.0/14.0 MB\u001b[0m \u001b[31m121.6 MB/s\u001b[0m eta \u001b[36m0:00:00\u001b[0m\n",
            "\u001b[2K   \u001b[90m━━━━━━━━━━━━━━━━━━━━━━━━━━━━━━━━━━━━━━━━\u001b[0m \u001b[32m52.7/52.7 kB\u001b[0m \u001b[31m3.3 MB/s\u001b[0m eta \u001b[36m0:00:00\u001b[0m\n",
            "\u001b[2K   \u001b[90m━━━━━━━━━━━━━━━━━━━━━━━━━━━━━━━━━━━━━━━━\u001b[0m \u001b[32m47.3/47.3 kB\u001b[0m \u001b[31m2.5 MB/s\u001b[0m eta \u001b[36m0:00:00\u001b[0m\n",
            "\u001b[2K   \u001b[90m━━━━━━━━━━━━━━━━━━━━━━━━━━━━━━━━━━━━━━━━\u001b[0m \u001b[32m74.2/74.2 kB\u001b[0m \u001b[31m4.6 MB/s\u001b[0m eta \u001b[36m0:00:00\u001b[0m\n",
            "\u001b[2K   \u001b[90m━━━━━━━━━━━━━━━━━━━━━━━━━━━━━━━━━━━━━━━━\u001b[0m \u001b[32m198.4/198.4 kB\u001b[0m \u001b[31m9.6 MB/s\u001b[0m eta \u001b[36m0:00:00\u001b[0m\n",
            "\u001b[2K   \u001b[90m━━━━━━━━━━━━━━━━━━━━━━━━━━━━━━━━━━━━━━━━\u001b[0m \u001b[32m322.5/322.5 MB\u001b[0m \u001b[31m3.4 MB/s\u001b[0m eta \u001b[36m0:00:00\u001b[0m\n",
            "\u001b[2K   \u001b[90m━━━━━━━━━━━━━━━━━━━━━━━━━━━━━━━━━━━━━━━━\u001b[0m \u001b[32m1.9/1.9 MB\u001b[0m \u001b[31m72.0 MB/s\u001b[0m eta \u001b[36m0:00:00\u001b[0m\n",
            "\u001b[2K   \u001b[90m━━━━━━━━━━━━━━━━━━━━━━━━━━━━━━━━━━━━━━━━\u001b[0m \u001b[32m85.3/85.3 kB\u001b[0m \u001b[31m5.5 MB/s\u001b[0m eta \u001b[36m0:00:00\u001b[0m\n",
            "\u001b[?25h"
          ]
        }
      ]
    },
    {
      "cell_type": "code",
      "source": [
        "import pandas as pd\n",
        "import xgboost as xgb\n",
        "import joblib\n",
        "from sdv.metadata import SingleTableMetadata\n",
        "from sdv.single_table import GaussianCopulaSynthesizer\n",
        "from sklearn.model_selection import train_test_split, GridSearchCV\n",
        "from sklearn.preprocessing import OneHotEncoder\n",
        "from sklearn.compose import ColumnTransformer\n",
        "from sklearn.pipeline import Pipeline\n",
        "from sklearn.metrics import classification_report, confusion_matrix, precision_recall_curve\n",
        "import matplotlib.pyplot as plt\n",
        "import warnings\n",
        "\n",
        "warnings.filterwarnings('ignore')\n",
        "print(\"Libraries installed and imported successfully.\")"
      ],
      "metadata": {
        "colab": {
          "base_uri": "https://localhost:8080/"
        },
        "id": "Bfj_NIXPy2cJ",
        "outputId": "7ed8e8cb-1cff-43cd-baa5-91a8444da801"
      },
      "execution_count": 25,
      "outputs": [
        {
          "output_type": "stream",
          "name": "stdout",
          "text": [
            "Libraries installed and imported successfully.\n"
          ]
        }
      ]
    },
    {
      "cell_type": "code",
      "source": [
        "print(\"\\nGenerating synthetic data...\")\n",
        "metadata = SingleTableMetadata()\n",
        "metadata.add_column(column_name='transaction_id', sdtype='id')\n",
        "metadata.add_column(column_name='account', sdtype='id')\n",
        "metadata.add_column(column_name='amount', sdtype='numerical', computer_representation='Float')\n",
        "metadata.add_column(column_name='currency', sdtype='categorical')\n",
        "metadata.add_column(column_name='timestamp', sdtype='datetime', datetime_format='%Y-%m-%d %H:%M:%S')\n",
        "metadata.add_column(column_name='is_fraud', sdtype='boolean')\n",
        "synthesizer = GaussianCopulaSynthesizer(metadata)\n",
        "sample_data = pd.DataFrame({\n",
        "    'transaction_id': [1, 2, 3, 4], 'account': ['acc_1', 'acc_2', 'acc_1', 'acc_3'],\n",
        "    'amount': [100.50, 25.00, 5000.00, 150.75], 'currency': ['USD', 'EUR', 'USD', 'GBP'],\n",
        "    'timestamp': pd.to_datetime(['2023-01-01 12:00', '2023-01-01 13:00', '2023-01-02 08:00', '2023-01-02 09:00']),\n",
        "    'is_fraud': [False, False, True, False]\n",
        "})\n",
        "synthesizer.fit(sample_data)\n",
        "synthetic_data = synthesizer.sample(num_rows=20000)\n",
        "print(f\"Successfully generated {len(synthetic_data)} synthetic transactions.\")"
      ],
      "metadata": {
        "colab": {
          "base_uri": "https://localhost:8080/"
        },
        "id": "XfqPkqcxy480",
        "outputId": "77dd90a1-634e-483f-e5b4-2f166d4b910b"
      },
      "execution_count": 26,
      "outputs": [
        {
          "output_type": "stream",
          "name": "stdout",
          "text": [
            "\n",
            "Generating synthetic data...\n",
            "Successfully generated 20000 synthetic transactions.\n"
          ]
        }
      ]
    },
    {
      "cell_type": "code",
      "source": [
        "print(\"\\nPerforming feature engineering and preprocessing...\")\n",
        "synthetic_data = synthetic_data.sort_values(['account', 'timestamp'])\n",
        "synthetic_data['hour_of_day'] = synthetic_data['timestamp'].dt.hour\n",
        "synthetic_data['day_of_week'] = synthetic_data['timestamp'].dt.dayofweek\n",
        "synthetic_data['avg_amount_per_account'] = synthetic_data.groupby('account')['amount'].transform('mean')\n",
        "synthetic_data['amount_deviation'] = synthetic_data['amount'] - synthetic_data['avg_amount_per_account']\n",
        "synthetic_data['time_since_last_txn'] = synthetic_data.groupby('account')['timestamp'].diff().dt.total_seconds().fillna(0)\n",
        "features = ['amount', 'currency', 'hour_of_day', 'day_of_week', 'avg_amount_per_account', 'amount_deviation', 'time_since_last_txn']\n",
        "target = 'is_fraud'\n",
        "X = synthetic_data[features]\n",
        "y = synthetic_data[target]\n",
        "categorical_features = ['currency']\n",
        "preprocessor = ColumnTransformer(transformers=[('cat', OneHotEncoder(handle_unknown='ignore'), categorical_features)], remainder='passthrough')\n",
        "X_train, X_test, y_train, y_test = train_test_split(X, y, test_size=0.2, random_state=42, stratify=y)\n",
        "print(\"Data preparation complete.\")"
      ],
      "metadata": {
        "colab": {
          "base_uri": "https://localhost:8080/"
        },
        "id": "sKUb8fJDzJWD",
        "outputId": "78ce32c8-2a60-4669-80c1-a825a4a23ace"
      },
      "execution_count": 27,
      "outputs": [
        {
          "output_type": "stream",
          "name": "stdout",
          "text": [
            "\n",
            "Performing feature engineering and preprocessing...\n",
            "Data preparation complete.\n"
          ]
        }
      ]
    },
    {
      "cell_type": "code",
      "source": [
        "print(\"\\nTraining and tuning the model...\")\n",
        "scale_pos_weight = y_train.value_counts()[0] / y_train.value_counts()[1]\n",
        "pipeline = Pipeline(steps=[\n",
        "    ('preprocessor', preprocessor),\n",
        "    ('classifier', xgb.XGBClassifier(objective='binary:logistic', eval_metric='logloss', use_label_encoder=False, scale_pos_weight=scale_pos_weight))\n",
        "])\n",
        "param_grid = {'classifier__n_estimators': [100, 200], 'classifier__max_depth': [3, 5, 7], 'classifier__learning_rate': [0.1, 0.2]}\n",
        "grid_search = GridSearchCV(pipeline, param_grid, cv=3, n_jobs=-1, verbose=0, scoring='f1')\n",
        "grid_search.fit(X_train, y_train)\n",
        "best_model = grid_search.best_estimator_\n",
        "print(\"Model training complete.\")\n",
        "print(\"Best parameters found: \", grid_search.best_params_)"
      ],
      "metadata": {
        "colab": {
          "base_uri": "https://localhost:8080/"
        },
        "id": "UGd05cEHzPd_",
        "outputId": "29b913f1-e6af-43e3-9c64-395d8426c2c1"
      },
      "execution_count": 28,
      "outputs": [
        {
          "output_type": "stream",
          "name": "stdout",
          "text": [
            "\n",
            "Training and tuning the model...\n",
            "Model training complete.\n",
            "Best parameters found:  {'classifier__learning_rate': 0.2, 'classifier__max_depth': 7, 'classifier__n_estimators': 200}\n"
          ]
        }
      ]
    },
    {
      "cell_type": "code",
      "source": [
        "print(\"\\nPerforming final evaluation and threshold analysis...\")\n",
        "\n",
        "# Get the predicted probabilities for the positive class (fraud)\n",
        "y_probs = best_model.predict_proba(X_test)[:, 1]\n",
        "\n",
        "# Calculate precision, recall, and thresholds\n",
        "precision, recall, thresholds = precision_recall_curve(y_test, y_probs)\n",
        "\n",
        "# Plot the curve\n",
        "plt.figure(figsize=(10, 6))\n",
        "plt.plot(thresholds, precision[:-1], 'b--', label='Precision')\n",
        "plt.plot(thresholds, recall[:-1], 'g-', label='Recall')\n",
        "plt.title('Precision-Recall vs. Threshold')\n",
        "plt.xlabel('Threshold')\n",
        "plt.ylabel('Score')\n",
        "plt.legend()\n",
        "plt.grid(True)\n",
        "plt.show()\n",
        "\n",
        "# Find the threshold that gives the best balance (where precision and recall cross)\n",
        "intersection_idx = (precision >= recall).tolist().index(True)\n",
        "best_threshold = thresholds[intersection_idx]\n",
        "\n",
        "print(f\"\\nDefault threshold (0.5) Classification Report:\")\n",
        "y_pred_default = (y_probs >= 0.5).astype(int)\n",
        "print(classification_report(y_test, y_pred_default))\n",
        "\n",
        "print(f\"\\nOptimal Threshold found at: {best_threshold:.4f}\")\n",
        "print(f\"Classification Report using the Optimal Threshold:\")\n",
        "y_pred_optimal = (y_probs >= best_threshold).astype(int)\n",
        "print(classification_report(y_test, y_pred_optimal))"
      ],
      "metadata": {
        "colab": {
          "base_uri": "https://localhost:8080/",
          "height": 1000
        },
        "id": "Y5QhjUws31G4",
        "outputId": "e632c7b9-9562-4370-ac18-b5e0471e903d"
      },
      "execution_count": 29,
      "outputs": [
        {
          "output_type": "stream",
          "name": "stdout",
          "text": [
            "\n",
            "Performing final evaluation and threshold analysis...\n"
          ]
        },
        {
          "output_type": "display_data",
          "data": {
            "text/plain": [
              "<Figure size 1000x600 with 1 Axes>"
            ],
            "image/png": "[encoded data removed]"
          },
          "metadata": {}
        },
        {
          "output_type": "stream",
          "name": "stdout",
          "text": [
            "\n",
            "Default threshold (0.5) Classification Report:\n",
            "              precision    recall  f1-score   support\n",
            "\n",
            "       False       0.99      0.96      0.97      3860\n",
            "        True       0.41      0.85      0.55       140\n",
            "\n",
            "    accuracy                           0.95      4000\n",
            "   macro avg       0.70      0.90      0.76      4000\n",
            "weighted avg       0.97      0.95      0.96      4000\n",
            "\n",
            "\n",
            "Optimal Threshold found at: 0.9462\n",
            "Classification Report using the Optimal Threshold:\n",
            "              precision    recall  f1-score   support\n",
            "\n",
            "       False       0.99      0.99      0.99      3860\n",
            "        True       0.65      0.64      0.65       140\n",
            "\n",
            "    accuracy                           0.98      4000\n",
            "   macro avg       0.82      0.82      0.82      4000\n",
            "weighted avg       0.98      0.98      0.98      4000\n",
            "\n"
          ]
        }
      ]
    },
    {
      "cell_type": "code",
      "execution_count": 31,
      "metadata": {
        "colab": {
          "base_uri": "https://localhost:8080/"
        },
        "id": "DJOraKkVyg-O",
        "outputId": "375bdacd-7e95-4df4-bce3-e45a425f7bbd"
      },
      "outputs": [
        {
          "output_type": "stream",
          "name": "stdout",
          "text": [
            "\n",
            "Saving the final model and preprocessor...\n",
            "\n",
            "All steps complete. Please download the new '.pkl' files.\n"
          ]
        }
      ],
      "source": [
        "print(\"\\nSaving the final model and preprocessor...\")\n",
        "joblib.dump(best_model.named_steps['classifier'], 'xgboost_model.pkl')\n",
        "joblib.dump(best_model.named_steps['preprocessor'], 'preprocessor.pkl')\n",
        "print(\"\\nAll steps complete. Please download the new '.pkl' files.\")"
      ]
    }
  ]
}